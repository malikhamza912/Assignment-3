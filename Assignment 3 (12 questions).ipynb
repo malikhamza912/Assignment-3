{
 "cells": [
  {
   "cell_type": "code",
   "execution_count": 1,
   "id": "f257f9bb",
   "metadata": {
    "scrolled": true
   },
   "outputs": [
    {
     "name": "stdout",
     "output_type": "stream",
     "text": [
      "Twinkle, twinkle, little star,\n",
      "\tHow I wonder what you are!\n",
      "\t\tUp above the world so high,\n",
      "\t\tLike a diamond in the sky.\n",
      "Twinkle, twinkle, little star,\n",
      "\tHow I wonder what you are!\n"
     ]
    }
   ],
   "source": [
    "print(\"Twinkle, twinkle, little star,\\n\\tHow I wonder what you are!\\n\\t\\tUp above the world so high,\\n\\t\\tLike a diamond in the sky.\");\n",
    "print(\"Twinkle, twinkle, little star,\\n\\tHow I wonder what you are!\");"
   ]
  },
  {
   "cell_type": "code",
   "execution_count": 2,
   "id": "1363b059",
   "metadata": {},
   "outputs": [
    {
     "name": "stdout",
     "output_type": "stream",
     "text": [
      "3.8.8 (default, Apr 13 2021, 15:08:03) [MSC v.1916 64 bit (AMD64)]\n"
     ]
    }
   ],
   "source": [
    "import sys\n",
    "print(sys.version)"
   ]
  },
  {
   "cell_type": "code",
   "execution_count": 3,
   "id": "72dc0bfa",
   "metadata": {},
   "outputs": [
    {
     "name": "stdout",
     "output_type": "stream",
     "text": [
      "2021-10-24 16:41:39.251457\n"
     ]
    }
   ],
   "source": [
    "import datetime\n",
    "date_time = datetime.datetime.now()\n",
    "print(date_time)"
   ]
  },
  {
   "cell_type": "code",
   "execution_count": 4,
   "id": "f7f7d230",
   "metadata": {},
   "outputs": [
    {
     "name": "stdout",
     "output_type": "stream",
     "text": [
      " The area of the circle with radius 7 is: 153.93804002589985\n"
     ]
    }
   ],
   "source": [
    "from math import pi\n",
    "r = 7\n",
    "print(\" The area of the circle with radius \" + str(r) + \" is: \" + str(pi * r**2))"
   ]
  },
  {
   "cell_type": "code",
   "execution_count": 5,
   "id": "3f8165c0",
   "metadata": {},
   "outputs": [
    {
     "name": "stdout",
     "output_type": "stream",
     "text": [
      "Input your first name:Malik\n",
      "Input your last name:Hamza\n",
      "Hi Hamza Malik\n"
     ]
    }
   ],
   "source": [
    "fname = input(\"Input your first name:\")\n",
    "lname = input(\"Input your last name:\")\n",
    "print(\"Hi \" + lname + \" \" + fname)"
   ]
  },
  {
   "cell_type": "code",
   "execution_count": 6,
   "id": "add985cd",
   "metadata": {},
   "outputs": [
    {
     "name": "stdout",
     "output_type": "stream",
     "text": [
      "Input first number:5\n",
      "Input second number:15\n",
      "sum 20\n"
     ]
    }
   ],
   "source": [
    "w = int(input(\"Input first number:\"))\n",
    "x = int(input(\"Input second number:\"))\n",
    "sum = w + x\n",
    "print(\"sum\", sum);"
   ]
  },
  {
   "cell_type": "code",
   "execution_count": 7,
   "id": "6abe75aa",
   "metadata": {},
   "outputs": [
    {
     "name": "stdout",
     "output_type": "stream",
     "text": [
      "marks of chemistry:52\n",
      "marks of physics:55\n",
      "marks of maths:75\n",
      "marks of english:63\n",
      "marks of islamiat:73\n",
      "Grade B\n"
     ]
    }
   ],
   "source": [
    "chemistry = int(input(\"marks of chemistry:\"))\n",
    "physics = int(input(\"marks of physics:\"))\n",
    "maths = int(input(\"marks of maths:\"))\n",
    "english = int(input(\"marks of english:\"))\n",
    "islamiat = int(input(\"marks of islamiat:\"))\n",
    "totalmarks = 500;\n",
    "obtainedmarks = (chemistry + physics + maths + english + islamiat);\n",
    "percent = (obtainedmarks/totalmarks) * 100\n",
    "if percent < 100 and percent > 80:\n",
    "    print(\"Grade A+\");\n",
    "elif percent < 80 and percent > 70:\n",
    "    print(\"Grade A\");\n",
    "elif percent < 70 and percent > 60:\n",
    "    print(\"Grade B\");\n",
    "elif percent < 60 and percent > 50:\n",
    "    print(\"Grade C\");\n",
    "elif percent < 50 and percent > 40:\n",
    "    print(\"Grade D\");\n",
    "elif percent < 40 and percent > 33:\n",
    "    print(\"Grade E\");\n",
    "else:\n",
    "    print(\"Fail\");"
   ]
  },
  {
   "cell_type": "code",
   "execution_count": 8,
   "id": "ed0a1dc5",
   "metadata": {},
   "outputs": [
    {
     "name": "stdout",
     "output_type": "stream",
     "text": [
      "What is the number? 15\n",
      "x is odd number\n"
     ]
    }
   ],
   "source": [
    "x = int(input(\"What is the number? \"))\n",
    "if (x % 2) == 0:\n",
    "    print(\"x is even number\");\n",
    "else:\n",
    "    print(\"x is odd number\");"
   ]
  },
  {
   "cell_type": "code",
   "execution_count": 9,
   "id": "cefe31e4",
   "metadata": {},
   "outputs": [
    {
     "name": "stdout",
     "output_type": "stream",
     "text": [
      "Number of items in this list =  6\n"
     ]
    }
   ],
   "source": [
    "ListofFruits = [\"Orange\", \"Mango\", \"Banana\", \"Watermelon\", \"Apple\", \"Pineapple\"]\n",
    "print (\"Number of items in this list = \", len(ListofFruits))"
   ]
  },
  {
   "cell_type": "code",
   "execution_count": 10,
   "id": "c75eba4b",
   "metadata": {},
   "outputs": [
    {
     "name": "stdout",
     "output_type": "stream",
     "text": [
      "How many numbers: 5\n",
      "Enter number 1\n",
      "Enter number 2\n",
      "Enter number 3\n",
      "Enter number 4\n",
      "Enter number 5\n",
      "Sum of elements in given list is : 15\n"
     ]
    }
   ],
   "source": [
    "lst = []\n",
    "num = int(input('How many numbers: '))\n",
    "for n in range(num):\n",
    "    numbers = int(input('Enter number '))\n",
    "    lst.append(numbers)\n",
    "sum2 = sum\n",
    "del sum\n",
    "print(\"Sum of elements in given list is :\", sum(lst))"
   ]
  },
  {
   "cell_type": "code",
   "execution_count": 11,
   "id": "2ec22cbc",
   "metadata": {},
   "outputs": [
    {
     "name": "stdout",
     "output_type": "stream",
     "text": [
      "The largest number from the list of numbers is = 108\n"
     ]
    }
   ],
   "source": [
    "listofnumbers = [3, 26, 34, 42, 108]\n",
    "print (\"The largest number from the list of numbers is =\", max(listofnumbers))"
   ]
  },
  {
   "cell_type": "code",
   "execution_count": 12,
   "id": "749dfe66",
   "metadata": {},
   "outputs": [
    {
     "name": "stdout",
     "output_type": "stream",
     "text": [
      "[1, 1, 2, 3]\n"
     ]
    }
   ],
   "source": [
    "lista = [1, 1, 2, 3, 5, 8, 13, 21, 34, 55, 89]\n",
    "listb = []\n",
    "for i in lista:\n",
    "    if i < 5:\n",
    "        listb.append(i)\n",
    "print(listb)"
   ]
  }
 ],
 "metadata": {
  "kernelspec": {
   "display_name": "Python 3",
   "language": "python",
   "name": "python3"
  },
  "language_info": {
   "codemirror_mode": {
    "name": "ipython",
    "version": 3
   },
   "file_extension": ".py",
   "mimetype": "text/x-python",
   "name": "python",
   "nbconvert_exporter": "python",
   "pygments_lexer": "ipython3",
   "version": "3.8.8"
  }
 },
 "nbformat": 4,
 "nbformat_minor": 5
}
